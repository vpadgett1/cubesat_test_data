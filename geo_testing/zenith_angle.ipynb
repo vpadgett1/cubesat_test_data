{
 "cells": [
  {
   "cell_type": "code",
   "execution_count": 44,
   "metadata": {},
   "outputs": [],
   "source": [
    "#calculate the zenith angle where\n",
    "    #θ s \\theta _{s} is the solar zenith angle\n",
    "    #α s \\alpha _{s} is the solar altitude angle, α s = 90 ∘ − θ s {\\displaystyle \\alpha _{s}=90^{\\circ }-\\theta _{s}}\n",
    "    #h h is the hour angle, in the local solar time.\n",
    "    #δ \\delta is the current declination of the Sun\n",
    "    #Φ \\Phi is the local latitude.\n",
    "\n",
    "\n",
    "import math\n",
    "import numpy as np\n",
    "\n",
    "#calculate the solar zenith angle: cos 𝜃𝑜 = sin 𝜑 sin 𝛿 + cos 𝜑 cos 𝛿 cos ℎ\n",
    "def solar_zenith_angle(latitude, declination, hour_angle):\n",
    "    cos_theta = math.sin(math.radians(latitude)) * math.sin(math.radians(declination)) + math.cos(math.radians(latitude)) * math.cos(math.radians(declination)) * math.cos(math.radians(hour_angle))\n",
    "    theta = math.degrees(math.acos(cos_theta))\n",
    "    return theta\n"
   ]
  },
  {
   "cell_type": "code",
   "execution_count": 45,
   "metadata": {},
   "outputs": [
    {
     "name": "stdout",
     "output_type": "stream",
     "text": [
      "10.299217153186353\n"
     ]
    }
   ],
   "source": [
    "#calculate the solar zenith angle with the latitude, declination, and hour angle\n",
    "#latitude of Atlanta, GA: 33.7490° N, 84.3880° W\n",
    "lat =  33.7490\n",
    "dec = 23.45 * math.sin(math.radians(360 * (284 + 172) / 365))\n",
    "hour_angle = 0\n",
    "theta = solar_zenith_angle(lat, dec, hour_angle)\n",
    "print(theta)"
   ]
  },
  {
   "cell_type": "code",
   "execution_count": 46,
   "metadata": {},
   "outputs": [],
   "source": [
    "#calculate the surface area covered by a satellite with a given zenith angle\n",
    "#Surface area = 2 * pi * (radius of the Earth^2 + ((altitude + radius of the Earth) / 2)^2) * sin(radius of the Earth * sin(arccos(radius of the Earth / sqrt(altitude^2 + (radius of the Earth)^2))) / ((altitude + radius of the Earth) / 2) - zenith angle / 180 * pi)\n",
    "def surface_area(zenith_angle, radius, altitude):\n",
    "    surface_area = 2 * math.pi * (radius**2 + ((altitude + radius) / 2)**2) * math.sin(radius * math.sin(math.acos(radius / math.sqrt(altitude**2 + radius**2))) / ((altitude + radius) / 2) - zenith_angle / 180 * math.pi)\n",
    "    return surface_area"
   ]
  },
  {
   "cell_type": "code",
   "execution_count": 47,
   "metadata": {},
   "outputs": [
    {
     "name": "stdout",
     "output_type": "stream",
     "text": [
      "-18436852.165818725\n"
     ]
    }
   ],
   "source": [
    "#calculate the surface area covered by a satellite with theta\n",
    "#radius of the Earth: 6371 km\n",
    "#altitude of the satellite: 420 km\n",
    "radius = 6371\n",
    "altitude = 420\n",
    "area = surface_area(theta, radius, altitude)\n",
    "print(area)\n"
   ]
  },
  {
   "cell_type": "code",
   "execution_count": 48,
   "metadata": {},
   "outputs": [
    {
     "name": "stdout",
     "output_type": "stream",
     "text": [
      "-3.61455876147264\n"
     ]
    }
   ],
   "source": [
    "#divide surface area of the Earth by the surface area covered by the satellite\n",
    "#surface area of the Earth: 510,072,000 km^2\n",
    "earth_area = 510072000\n",
    "percent = area / earth_area * 100\n",
    "print(percent)"
   ]
  },
  {
   "cell_type": "code",
   "execution_count": 49,
   "metadata": {},
   "outputs": [
    {
     "name": "stdout",
     "output_type": "stream",
     "text": [
      "[34638103.334721394, 28949684.317549773, 23252446.946093135, 17548126.6540452, 11838461.032625932, 6125189.301294374, 410051.7779655985, -5305210.651107002, -11018857.061622545, -16729147.021535056, -22434341.121205915, -28132701.503244918, -33822492.39187843, -39501980.621683545, -45169436.165527, -50823132.6615483, -56461347.93902613, -62082364.5429684, -67684470.2572655, -73265958.62624805, -78825129.47448976, -84360289.42469735, -89869752.41352974, -95351840.20518911, -100804882.90262797, -106227219.45621583, -111617198.16971119, -116973177.20338397, -122293525.07413597, -127576621.15246639, -132820856.15613133, -138024632.6403466, -143186365.48438492, -148304482.37441924, -153377424.28246456, -158403645.94127297, -163381616.3150371, -168309819.0657584, -173186753.01513848, -178010932.60185233, -182780888.33406505, -187495167.237053, -192152333.29579407, -196750967.8923918, -201289670.2382001, -205767057.800517, -210181766.72371763, -214532452.2446977, -218817789.10250145, -223036471.94200918, -227187215.71156046, -231268756.0543941, -235279849.6937828, -239219274.81174767, -243085831.42123574, -246878341.73164758, -250595650.50760373, -254236625.42084074, -257800157.39512902, -261285160.94410858, -264690574.50193837, -268015360.74665967, -271258506.9161745, -274419025.11674243, -277495952.62390304, -280488352.1757307, -283395312.2583341, -286215947.3835114, -288949398.35847974, -291594832.5475922, -294151444.1259683, -296618454.32495445, -298995111.6693458, -301280692.206292, -303474499.7258205, -305575865.97290903, -307584150.85104233, -309498742.61719185, -311319058.0681585, -313044542.7182222, -314674670.9680434, -316208946.2647656, -317646901.2532708, -318988097.91853964, -320232127.7190753, -321378611.7113496, -322427200.665232, -323377575.1703694, -324229445.733481]\n",
      "[6.790826262708283, 5.6756074274905846, 4.558659747269628, 3.4403234551289232, 2.320939207136626, 1.2008479785783919, 0.08039096009300618, -1.0400905462575876, -2.160255230952208, -3.279761880976618, -4.398269483760315, -5.515437331052267, -6.630925122703939, -7.744393070328022, -8.85550200080126, -9.963913459579883, -11.069289813796116, -12.171294355104456, -13.26959140224625, -14.363846403301503, -15.453726037596608, -16.538898317237045, -17.61903268823416, -18.69380013119503, -19.76287326154503, -20.825926429252306, -21.882635818023964, -22.932679543943593, -23.97573775352028, -25.011492721119055, -26.039628945743214, -27.059833247138947, -28.071794861193112, -29.075205534594968, -30.06975961873315, -31.05515416279917, -32.031089006069166, -32.99726686933578, -33.953393445462304, -34.899177489031416, -35.83433090506145, -36.75856883676285, -37.67160975230831, -38.573175530590156, -39.46299154593863, -40.34078675177563, -41.20629376317807, -42.0592489383259, -42.89939245881002, -43.72646840877547, -44.54022485287577, -45.34041391301504, -46.126791843853965, -46.89911910705698, -47.65716044425801, -48.40068494872245, -49.129466135683536, -49.84328201133188, -50.54191514043684, -51.225152712579515, -51.892786606976735, -52.54461345587676, -53.180434706507015, -53.80005668155524, -54.4032906381654, -54.98995282543066, -55.55986454036569, -56.1128521823412, -56.6487473059646, -57.16738667238982, -57.668612299041754, -58.152271507738995, -58.61821697120128, -59.066306757926725, -59.49640437542553, -59.90837881179697, -60.30210457563684, -60.677461734263375, -61.03433595024986, -61.37261851625304, -61.69220638812626, -61.99300221630782, -62.2749143754746, -62.53785699245198, -62.781749972371614, -63.00651902306922, -63.21209567771452, -63.398417315667075, -63.56542718155104]\n"
     ]
    }
   ],
   "source": [
    "#complete for angles from 0 to 90 degrees\n",
    "angles = np.arange(1, 90, 1)\n",
    "areas = []\n",
    "satelittes= []\n",
    "for angle in angles:\n",
    "    suface = surface_area(angle, radius, altitude)\n",
    "    areas.append(suface)\n",
    "    satelittes.append(suface / earth_area * 100)\n",
    "print(areas)\n",
    "print(satelittes)"
   ]
  },
  {
   "cell_type": "code",
   "execution_count": 50,
   "metadata": {},
   "outputs": [
    {
     "name": "stdout",
     "output_type": "stream",
     "text": [
      "-6.454946502782735\n"
     ]
    }
   ],
   "source": [
    "#find central angle of the satellite\n",
    "#central angle = 2 * arcsin(surface area of the satellite / (2 * pi * (radius of the Earth^2 + ((altitude + radius of the Earth) / 2)^2)))\n",
    "central_angle = 2 * math.degrees(math.asin(area / (2 * math.pi * (radius**2 + ((altitude + radius) / 2)**2))))\n",
    "print(central_angle)"
   ]
  },
  {
   "cell_type": "code",
   "execution_count": 34,
   "metadata": {},
   "outputs": [
    {
     "name": "stdout",
     "output_type": "stream",
     "text": [
      "2062952246.5141952\n"
     ]
    }
   ],
   "source": [
    "#calculate the surface area covered by a satellite\n",
    "#area = (theta / 2 * pi) * (radius of the Earth^2*pi)\n",
    "area = (theta / 2 * math.pi) * (radius**2 * math.pi)\n",
    "print(area)\n",
    "\n"
   ]
  },
  {
   "cell_type": "code",
   "execution_count": 35,
   "metadata": {},
   "outputs": [
    {
     "name": "stdout",
     "output_type": "stream",
     "text": [
      "404.4433426093169\n"
     ]
    }
   ],
   "source": [
    "#divide surface area of the Earth by the surface area covered by the satellite\n",
    "#surface area of the Earth: 510,072,000 km^2\n",
    "earth_area = 510072000\n",
    "percent = area / earth_area * 100\n",
    "print(percent)"
   ]
  },
  {
   "cell_type": "code",
   "execution_count": 36,
   "metadata": {},
   "outputs": [],
   "source": [
    "#surface area = pi * (radius of Earth)^2 * (2 * sin(field of view angle))^2 * (cos(zenith angle))^2 - pi * (radius of Earth + altitude of satellite)^2 * (1 - sqrt(1 - ((2 * sin(field of view angle) * cos(zenith angle))^2)))\n",
    "def surface_area(field_of_view_angle, radius, altitude, zenith_angle):\n",
    "    surface_area = math.pi * radius**2 * (2 * math.sin(field_of_view_angle))**2 * (math.cos(zenith_angle))**2 - math.pi * (radius + altitude)**2 * (1 - math.sqrt(1 - ((2 * math.sin(field_of_view_angle) * math.cos(zenith_angle))**2)))\n",
    "    return surface_area"
   ]
  },
  {
   "cell_type": "code",
   "execution_count": 42,
   "metadata": {},
   "outputs": [
    {
     "name": "stdout",
     "output_type": "stream",
     "text": [
      "21023395.0638272\n"
     ]
    },
    {
     "ename": "ValueError",
     "evalue": "math domain error",
     "output_type": "error",
     "traceback": [
      "\u001b[0;31m---------------------------------------------------------------------------\u001b[0m",
      "\u001b[0;31mValueError\u001b[0m                                Traceback (most recent call last)",
      "\u001b[1;32m/home/toripad24/cubesat/geo_testing/zenith_angle.ipynb Cell 11\u001b[0m in \u001b[0;36m1\n\u001b[1;32m     <a href='vscode-notebook-cell://wsl%2Bubuntu/home/toripad24/cubesat/geo_testing/zenith_angle.ipynb#X14sdnNjb2RlLXJlbW90ZQ%3D%3D?line=11'>12</a>\u001b[0m sur_areas \u001b[39m=\u001b[39m[]\n\u001b[1;32m     <a href='vscode-notebook-cell://wsl%2Bubuntu/home/toripad24/cubesat/geo_testing/zenith_angle.ipynb#X14sdnNjb2RlLXJlbW90ZQ%3D%3D?line=12'>13</a>\u001b[0m \u001b[39mfor\u001b[39;00m angle \u001b[39min\u001b[39;00m angles:\n\u001b[0;32m---> <a href='vscode-notebook-cell://wsl%2Bubuntu/home/toripad24/cubesat/geo_testing/zenith_angle.ipynb#X14sdnNjb2RlLXJlbW90ZQ%3D%3D?line=13'>14</a>\u001b[0m     sur_area \u001b[39m=\u001b[39m surface_area(angle, radius, altitude, theta)\n\u001b[1;32m     <a href='vscode-notebook-cell://wsl%2Bubuntu/home/toripad24/cubesat/geo_testing/zenith_angle.ipynb#X14sdnNjb2RlLXJlbW90ZQ%3D%3D?line=14'>15</a>\u001b[0m     sur_areas\u001b[39m.\u001b[39mappend(sur_area)\n\u001b[1;32m     <a href='vscode-notebook-cell://wsl%2Bubuntu/home/toripad24/cubesat/geo_testing/zenith_angle.ipynb#X14sdnNjb2RlLXJlbW90ZQ%3D%3D?line=15'>16</a>\u001b[0m \u001b[39mprint\u001b[39m(sur_areas)\n",
      "\u001b[1;32m/home/toripad24/cubesat/geo_testing/zenith_angle.ipynb Cell 11\u001b[0m in \u001b[0;36m3\n\u001b[1;32m      <a href='vscode-notebook-cell://wsl%2Bubuntu/home/toripad24/cubesat/geo_testing/zenith_angle.ipynb#X14sdnNjb2RlLXJlbW90ZQ%3D%3D?line=1'>2</a>\u001b[0m \u001b[39mdef\u001b[39;00m \u001b[39msurface_area\u001b[39m(field_of_view_angle, radius, altitude, zenith_angle):\n\u001b[0;32m----> <a href='vscode-notebook-cell://wsl%2Bubuntu/home/toripad24/cubesat/geo_testing/zenith_angle.ipynb#X14sdnNjb2RlLXJlbW90ZQ%3D%3D?line=2'>3</a>\u001b[0m     surface_area \u001b[39m=\u001b[39m math\u001b[39m.\u001b[39mpi \u001b[39m*\u001b[39m radius\u001b[39m*\u001b[39m\u001b[39m*\u001b[39m\u001b[39m2\u001b[39m \u001b[39m*\u001b[39m (\u001b[39m2\u001b[39m \u001b[39m*\u001b[39m math\u001b[39m.\u001b[39msin(field_of_view_angle))\u001b[39m*\u001b[39m\u001b[39m*\u001b[39m\u001b[39m2\u001b[39m \u001b[39m*\u001b[39m (math\u001b[39m.\u001b[39mcos(zenith_angle))\u001b[39m*\u001b[39m\u001b[39m*\u001b[39m\u001b[39m2\u001b[39m \u001b[39m-\u001b[39m math\u001b[39m.\u001b[39mpi \u001b[39m*\u001b[39m (radius \u001b[39m+\u001b[39m altitude)\u001b[39m*\u001b[39m\u001b[39m*\u001b[39m\u001b[39m2\u001b[39m \u001b[39m*\u001b[39m (\u001b[39m1\u001b[39m \u001b[39m-\u001b[39m math\u001b[39m.\u001b[39;49msqrt(\u001b[39m1\u001b[39;49m \u001b[39m-\u001b[39;49m ((\u001b[39m2\u001b[39;49m \u001b[39m*\u001b[39;49m math\u001b[39m.\u001b[39;49msin(field_of_view_angle) \u001b[39m*\u001b[39;49m math\u001b[39m.\u001b[39;49mcos(zenith_angle))\u001b[39m*\u001b[39;49m\u001b[39m*\u001b[39;49m\u001b[39m2\u001b[39;49m)))\n\u001b[1;32m      <a href='vscode-notebook-cell://wsl%2Bubuntu/home/toripad24/cubesat/geo_testing/zenith_angle.ipynb#X14sdnNjb2RlLXJlbW90ZQ%3D%3D?line=3'>4</a>\u001b[0m     \u001b[39mreturn\u001b[39;00m surface_area\n",
      "\u001b[0;31mValueError\u001b[0m: math domain error"
     ]
    }
   ],
   "source": [
    "#calculate the surface area covered by a satellite with theta\n",
    "#radius of the Earth: 6371 km\n",
    "#altitude of the satellite: 420 km\n",
    "radius = 6371\n",
    "altitude = 420\n",
    "angle = math.pi / 4\n",
    "suface = surface_area(angle, radius, altitude, theta)\n",
    "print(suface)\n",
    "\n",
    "#list angles in radians from 0 to 90 degrees\n",
    "angles = np.arange(0, math.pi / 3, math.pi / 180)\n",
    "sur_areas =[]\n",
    "for angle in angles:\n",
    "    sur_area = surface_area(angle, radius, altitude, theta)\n",
    "    sur_areas.append(sur_area)\n",
    "print(sur_areas)\n",
    "# sur_areas =[]\n",
    "# for angle in angles:\n",
    "#     sur_area = surface_area(angle, radius, altitude, theta)\n",
    "#     sur_areas.append(sur_area)\n",
    "# print(sur_areas)"
   ]
  },
  {
   "cell_type": "code",
   "execution_count": null,
   "metadata": {},
   "outputs": [],
   "source": [
    "\n",
    "\n",
    "\n",
    "\n",
    "\n",
    "\n",
    "\n",
    "\n"
   ]
  }
 ],
 "metadata": {
  "kernelspec": {
   "display_name": "Python 3",
   "language": "python",
   "name": "python3"
  },
  "language_info": {
   "codemirror_mode": {
    "name": "ipython",
    "version": 3
   },
   "file_extension": ".py",
   "mimetype": "text/x-python",
   "name": "python",
   "nbconvert_exporter": "python",
   "pygments_lexer": "ipython3",
   "version": "3.9.5"
  },
  "orig_nbformat": 4
 },
 "nbformat": 4,
 "nbformat_minor": 2
}
