{
 "cells": [
  {
   "cell_type": "code",
   "execution_count": 94,
   "metadata": {},
   "outputs": [],
   "source": [
    "import matplotlib.pyplot as plt\n",
    "import pandas as pd\n",
    "import numpy as np"
   ]
  },
  {
   "cell_type": "code",
   "execution_count": 100,
   "metadata": {},
   "outputs": [
    {
     "name": "stdout",
     "output_type": "stream",
     "text": [
      "<class 'pandas.core.frame.DataFrame'>\n",
      "RangeIndex: 21789 entries, 0 to 21788\n",
      "Data columns (total 4 columns):\n",
      " #   Column      Non-Null Count  Dtype  \n",
      "---  ------      --------------  -----  \n",
      " 0   counts_1_2  21789 non-null  object \n",
      " 1   counts_2_3  16073 non-null  float64\n",
      " 2   counts_1_3  16073 non-null  float64\n",
      " 3   timestamp   16073 non-null  object \n",
      "dtypes: float64(2), object(2)\n",
      "memory usage: 681.0+ KB\n",
      "<class 'numpy.ndarray'>\n",
      "      counts_1_2  counts_2_3  counts_1_3                  timestamp\n",
      "0             22        31.0        25.0   Mon Nov 21 12:17:58 2022\n",
      "1             21        17.0        16.0   Mon Nov 21 12:18:58 2022\n",
      "2             20        20.0        21.0   Mon Nov 21 12:19:58 2022\n",
      "3             32        32.0        37.0   Mon Nov 21 12:20:58 2022\n",
      "4             26        26.0        26.0   Mon Nov 21 12:21:58 2022\n",
      "...          ...         ...         ...                        ...\n",
      "16068         19        19.0        22.0   Wed Nov 30 16:49:04 2022\n",
      "16069         19        23.0        21.0   Wed Nov 30 16:50:04 2022\n",
      "16070         19        20.0        20.0   Wed Nov 30 16:51:04 2022\n",
      "16071         16        13.0        17.0   Wed Nov 30 16:52:04 2022\n",
      "16072         18        20.0        18.0   Wed Nov 30 16:53:04 2022\n",
      "\n",
      "[16073 rows x 4 columns]\n"
     ]
    }
   ],
   "source": [
    "receiving = pd.read_csv('final_receving.csv')\n",
    "receiving.info()\n",
    "\n",
    "#create columns for counts\n",
    "counts_1_3 = receiving['counts_1_3']\n",
    "counts_2_3 = receiving['counts_2_3']\n",
    "counts_1_2 = receiving['counts_1_2']\n",
    "\n",
    "timestamps = receiving['timestamp'].values\n",
    "print(type(timestamps))\n",
    "#clean the timestamp data to end in 2022\n",
    "for i, timestamp in enumerate(timestamps):\n",
    "    # print(type(timestamp))\n",
    "    # print(timestamp)\n",
    "    # print(i+1, 'line')\n",
    "    if not isinstance(timestamp, str):\n",
    "        receiving.drop(i, axis=0, inplace=True)\n",
    "    \n",
    "receiving.reset_index(drop=True, inplace=True)\n",
    "print(receiving)"
   ]
  },
  {
   "cell_type": "code",
   "execution_count": 101,
   "metadata": {},
   "outputs": [
    {
     "name": "stdout",
     "output_type": "stream",
     "text": [
      "<class 'pandas.core.frame.DataFrame'>\n",
      "RangeIndex: 16073 entries, 0 to 16072\n",
      "Data columns (total 4 columns):\n",
      " #   Column      Non-Null Count  Dtype  \n",
      "---  ------      --------------  -----  \n",
      " 0   counts_1_2  16073 non-null  object \n",
      " 1   counts_2_3  16073 non-null  float64\n",
      " 2   counts_1_3  16073 non-null  float64\n",
      " 3   timestamp   16073 non-null  object \n",
      "dtypes: float64(2), object(2)\n",
      "memory usage: 502.4+ KB\n"
     ]
    }
   ],
   "source": [
    "receiving.info()"
   ]
  },
  {
   "cell_type": "code",
   "execution_count": 102,
   "metadata": {},
   "outputs": [],
   "source": [
    "import re\n",
    "#print(receiving)\n",
    "for index, row in receiving.iterrows():\n",
    "  if re.search(r'\\\\', repr(row['timestamp'])):\n",
    "    string_cleaner=re.split(r'\\\\', row['timestamp'], maxsplit=1)\n",
    "    #print(string_cleaner[0])\n",
    "    if re.search(r'2022', string_cleaner[0]):\n",
    "      string_cleanest = re.split(r'2022', string_cleaner[0], maxsplit=2)\n",
    "      complete_timestamp = str(string_cleanest[0])+'2022'\n",
    "      #print(complete_timestamp)\n",
    "      receiving.iloc[index, receiving.columns.get_loc('timestamp')] = complete_timestamp\n",
    "    #print(index)\n",
    "    receiving.iloc[index, receiving.columns.get_loc('timestamp')] = string_cleaner[0]\n",
    "  # elif row['timestamp'].endswith('2\\\\*'):\n",
    "  #   string_cleaner=row['timestamp'].split('2\\\\*', 1)\n",
    "  #   print(string_cleaner)\n",
    "  #   # receiving.iloc[index, receiving.columns.get_loc('timestamp')] = string_cleaner[0]\n",
    "\n",
    "# print(receiving.iloc[14628, receiving.columns.get_loc('timestamp')])"
   ]
  },
  {
   "cell_type": "code",
   "execution_count": 103,
   "metadata": {},
   "outputs": [
    {
     "data": {
      "text/plain": [
       "3"
      ]
     },
     "execution_count": 103,
     "metadata": {},
     "output_type": "execute_result"
    }
   ],
   "source": [
    "receiving.columns.get_loc('timestamp')"
   ]
  },
  {
   "cell_type": "code",
   "execution_count": null,
   "metadata": {},
   "outputs": [],
   "source": [
    "for i, timestamp in enumerate(timestamps):\n",
    "    print(type(timestamp))\n",
    "    print(timestamp)\n",
    "    print(i+1, 'line')\n",
    "    if timestamp.endswith('\\*'):\n",
    "        string_cleaner=timestamp.split('\\*', 1)\n",
    "        timestamp=string_cleaner[0]\n",
    "    elif timestamp.endswith(''):\n",
    "        string_cleaner=timestamp.split('\\\\n', 1)\n",
    "        timestamp=string_cleaner[0]\n",
    "\n",
    "converted_timestamps = pd.to_datetime(timestamps)"
   ]
  },
  {
   "cell_type": "code",
   "execution_count": 16,
   "metadata": {},
   "outputs": [
    {
     "data": {
      "text/plain": [
       "counts_1_2    \\xecj\\xe6\\xe5\\x11\\xcf\\x84P\\xaa\\x9bH\\xf9\\t\\xa0@...\n",
       "counts_2_3                                                  NaN\n",
       "counts_1_3                                                  NaN\n",
       "timestamp                                                   NaN\n",
       "Name: 5926, dtype: object"
      ]
     },
     "execution_count": 16,
     "metadata": {},
     "output_type": "execute_result"
    }
   ],
   "source": [
    "receiving.iloc[5926, :]"
   ]
  },
  {
   "cell_type": "code",
   "execution_count": 63,
   "metadata": {},
   "outputs": [
    {
     "name": "stdout",
     "output_type": "stream",
     "text": [
      "<re.Match object; span=(24, 26), match='2\\\\'>\n"
     ]
    }
   ],
   "source": [
    "import re\n",
    "print(re.search(r\"\\\\|2\\\\\", ))"
   ]
  },
  {
   "cell_type": "code",
   "execution_count": 61,
   "metadata": {},
   "outputs": [],
   "source": [
    "var = r'Tue Nov 29 03:19:03 20222\\xcc&\\x14\\xd4\\xa7\\x95\\x13\\xf5\\xc6\\x9e]\\x92\\xf4\\xa1\\xb1\\x1f.\\xffJF\\xe7Z\\xc8\\xe6n\\xb5s\\xac\\x8fw\\xbc]C\\x99\\xf8\\xea\\x07v\\x84\\xdb\\x9a{\\xa1\\xc7\\xb4\\xf4\\x96\\xff\\x17}0\\x98\\xa5\\xe8Z\\x1b>\\xf2&/\\x1bl\\xb1d\\r\\n'"
   ]
  },
  {
   "cell_type": "code",
   "execution_count": 58,
   "metadata": {},
   "outputs": [
    {
     "name": "stdout",
     "output_type": "stream",
     "text": [
      "Tue Nov 29 03:19:03 20222\\xcc&\\x14\\xd4\\xa7\\x95\\x13\\xf5\\xc6\\x9e]\\x92\\xf4\\xa1\\xb1\\x1f.\\xffJF\\xe7Z\\xc8\\xe6n\\xb5s\\xac\\x8fw\\xbc]C\\x99\\xf8\\xea\\x07v\\x84\\xdb\\x9a{\\xa1\\xc7\\xb4\\xf4\\x96\\xff\\x17}0\\x98\\xa5\\xe8Z\\x1b>\\xf2&/\\x1bl\\xb1d\\r\\n\n"
     ]
    }
   ],
   "source": [
    "print(var)"
   ]
  },
  {
   "cell_type": "code",
   "execution_count": 108,
   "metadata": {},
   "outputs": [
    {
     "name": "stdout",
     "output_type": "stream",
     "text": [
      "[' Mon Nov 21 12:17:58 2022' ' Mon Nov 21 12:18:58 2022'\n",
      " ' Mon Nov 21 12:19:58 2022' ... ' Wed Nov 30 16:51:04 2022'\n",
      " ' Wed Nov 30 16:52:04 2022' ' Wed Nov 30 16:53:04 2022']\n"
     ]
    }
   ],
   "source": [
    "counts_1_2 = receiving['counts_1_2'].values\n",
    "counts_1_3 = receiving['counts_1_3'].values\n",
    "counts_2_3 = receiving['counts_2_3'].values\n",
    "timestamps = receiving['timestamp'].values\n",
    "print(timestamps)\n",
    "#convert timestamps to datetime\n",
    "#converted_timestamps = pd.to_datetime(timestamps)"
   ]
  },
  {
   "cell_type": "code",
   "execution_count": 88,
   "metadata": {},
   "outputs": [
    {
     "data": {
      "image/png": "[encoded data removed]",
      "text/plain": [
       "<Figure size 640x480 with 1 Axes>"
      ]
     },
     "metadata": {},
     "output_type": "display_data"
    }
   ],
   "source": [
    "#create a scatter plot of counts against timestamps\n",
    "# values = []\n",
    "# for rand in range(1, 500):\n",
    "#     random_variable = np.random.randint(0, 16053)\n",
    "#     values.append(random_variable)\n",
    "\n",
    "plt.scatter(receiving['timestamp'], receiving['counts_1_3'])\n",
    "plt.show()"
   ]
  },
  {
   "cell_type": "code",
   "execution_count": null,
   "metadata": {},
   "outputs": [],
   "source": []
  }
 ],
 "metadata": {
  "kernelspec": {
   "display_name": "Python 3.9.5 64-bit",
   "language": "python",
   "name": "python3"
  },
  "language_info": {
   "codemirror_mode": {
    "name": "ipython",
    "version": 3
   },
   "file_extension": ".py",
   "mimetype": "text/x-python",
   "name": "python",
   "nbconvert_exporter": "python",
   "pygments_lexer": "ipython3",
   "version": "3.9.5"
  },
  "orig_nbformat": 4,
  "vscode": {
   "interpreter": {
    "hash": "f9f85f796d01129d0dd105a088854619f454435301f6ffec2fea96ecbd9be4ac"
   }
  }
 },
 "nbformat": 4,
 "nbformat_minor": 2
}
